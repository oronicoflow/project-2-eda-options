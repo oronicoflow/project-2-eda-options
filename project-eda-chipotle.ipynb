{
 "cells": [
  {
   "cell_type": "markdown",
   "metadata": {},
   "source": [
    "<img src=\"http://imgur.com/1ZcRyrc.png\" style=\"float: left; margin: 20px; height: 55px\">\n",
    "\n",
    "# Project 2: Analyzing Chipotle Data\n",
    "\n",
    "_Author: Joseph Nelson (DC)_\n",
    "\n",
    "---"
   ]
  },
  {
   "cell_type": "markdown",
   "metadata": {},
   "source": [
    "For Project 2, you will complete a series of exercises exploring [order data from Chipotle](https://github.com/TheUpshot/chipotle), compliments of _The New York Times'_ \"The Upshot.\"\n",
    "\n",
    "For these exercises, you will conduct basic exploratory data analysis (Pandas not required) to understand the essentials of Chipotle's order data: how many orders are being made, the average price per order, how many different ingredients are used, etc. These allow you to practice business analysis skills while also becoming comfortable with Python."
   ]
  },
  {
   "cell_type": "markdown",
   "metadata": {},
   "source": [
    "---\n",
    "\n",
    "## Basic Level"
   ]
  },
  {
   "cell_type": "markdown",
   "metadata": {},
   "source": [
    "### Part 1: Read in the file with `csv.reader()` and store it in an object called `file_nested_list`.\n",
    "\n",
    "Hint: This is a TSV (tab-separated value) file, and `csv.reader()` needs to be told [how to handle it](https://docs.python.org/2/library/csv.html)."
   ]
  },
  {
   "cell_type": "code",
   "execution_count": 1,
   "metadata": {
    "ExecuteTime": {
     "end_time": "2019-09-13T15:36:22.945474Z",
     "start_time": "2019-09-13T15:36:22.940558Z"
    }
   },
   "outputs": [],
   "source": [
    "import csv\n",
    "from collections import namedtuple   # Convenient to store the data rows\n",
    "\n",
    "DATA_FILE = './data/chipotle.tsv'"
   ]
  },
  {
   "cell_type": "code",
   "execution_count": 25,
   "metadata": {},
   "outputs": [
    {
     "data": {
      "text/plain": [
       "[['order_id', 'quantity', 'item_name', 'choice_description', 'item_price'],\n",
       " ['1', '1', 'Chips and Fresh Tomato Salsa', 'NULL', '$2.39 '],\n",
       " ['1', '1', 'Izze', '[Clementine]', '$3.39 '],\n",
       " ['1', '1', 'Nantucket Nectar', '[Apple]', '$3.39 '],\n",
       " ['1', '1', 'Chips and Tomatillo-Green Chili Salsa', 'NULL', '$2.39 ']]"
      ]
     },
     "execution_count": 25,
     "metadata": {},
     "output_type": "execute_result"
    }
   ],
   "source": [
    "file_nested_list = []\n",
    "with open(DATA_FILE, 'r') as f: \n",
    "    reader = csv.reader(f, delimiter='\\t')\n",
    "    for row in reader: \n",
    "        file_nested_list.append(row)\n",
    "\n",
    "file_nested_list[0:5]"
   ]
  },
  {
   "cell_type": "markdown",
   "metadata": {},
   "source": [
    "### Part 2: Separate `file_nested_list` into the `header` and the `data`.\n"
   ]
  },
  {
   "cell_type": "code",
   "execution_count": 8,
   "metadata": {},
   "outputs": [],
   "source": [
    "header = file_nested_list[0]"
   ]
  },
  {
   "cell_type": "code",
   "execution_count": 9,
   "metadata": {},
   "outputs": [],
   "source": [
    "data = file_nested_list[1:]"
   ]
  },
  {
   "cell_type": "markdown",
   "metadata": {},
   "source": [
    "---\n",
    "\n",
    "## Intermediate Level"
   ]
  },
  {
   "cell_type": "markdown",
   "metadata": {},
   "source": [
    "### Part 3: Calculate the average price of an order.\n",
    "\n",
    "Hint: Examine the data to see if the `quantity` column is relevant to this calculation.\n",
    "\n",
    "Hint: Think carefully about the simplest way to do this!"
   ]
  },
  {
   "cell_type": "code",
   "execution_count": 48,
   "metadata": {},
   "outputs": [
    {
     "name": "stdout",
     "output_type": "stream",
     "text": [
      "dict_keys(['order_id', 'quantity', 'item_name', 'choice_description', 'item_price'])\n",
      "1.0757247944612722\n",
      "7.464335785374297\n",
      "dict_keys(['order_id', 'quantity', 'item_name', 'choice_description', 'item_price', 'order_price'])\n",
      "average order price is 8.49\n"
     ]
    }
   ],
   "source": [
    "import numpy as np\n",
    "\n",
    "# put the data into a dictionary with keys identified by column names:\n",
    "d = {key_name:[row[index] for row in data] for index, key_name in enumerate(header)}\n",
    "print(d.keys())\n",
    "\n",
    "# convert quantity list of str to list of floats \n",
    "for index, item in enumerate(d['quantity']):\n",
    "    d['quantity'][index] = float(item)\n",
    "\n",
    "# convert item_price list of str to list of floats \n",
    "for index, item in enumerate(d['item_price']):\n",
    "    d['item_price'][index] = float(item[1:]) # indexing [1:] to drop $ sign\n",
    "\n",
    "print(np.mean(d['quantity']))\n",
    "print(np.mean(d['item_price']))\n",
    "\n",
    "# create empty list in dictionary to store order price \n",
    "d['order_price'] = [0] * len(d['item_price'])\n",
    "print(d.keys())\n",
    "\n",
    "# populate order price by cycling through rows in quantity \n",
    "for index, item in enumerate(d['quantity']):\n",
    "    d['order_price'][index] = d['quantity'][index] * d['item_price'][index]\n",
    "    \n",
    "print('average order price is ' + str(round(np.mean(d['order_price']),2)))"
   ]
  },
  {
   "cell_type": "markdown",
   "metadata": {},
   "source": [
    "### Part 4: Create a list (or set) named `unique_sodas` containing all of unique sodas and soft drinks that Chipotle sells.\n",
    "\n",
    "Note: Just look for `'Canned Soda'` and `'Canned Soft Drink'`, and ignore other drinks like `'Izze'`."
   ]
  },
  {
   "cell_type": "code",
   "execution_count": 68,
   "metadata": {},
   "outputs": [],
   "source": [
    "soda_list = []\n",
    "for index, item in enumerate(d['item_name']): \n",
    "    if item in ['Canned Soda', 'Canned Soft Drink']: \n",
    "        soda_list.append(d['choice_description'][index])\n",
    "unique_sodas = np.unique(soft_drink_list)"
   ]
  },
  {
   "cell_type": "markdown",
   "metadata": {},
   "source": [
    "---\n",
    "\n",
    "## Advanced Level\n"
   ]
  },
  {
   "cell_type": "markdown",
   "metadata": {},
   "source": [
    "### Part 5: Calculate the average number of toppings per burrito.\n",
    "\n",
    "Note: Let's ignore the `quantity` column to simplify this task.\n",
    "\n",
    "Hint: Think carefully about the easiest way to count the number of toppings!\n"
   ]
  },
  {
   "cell_type": "code",
   "execution_count": 69,
   "metadata": {},
   "outputs": [
    {
     "data": {
      "text/plain": [
       "array(['6 Pack Soft Drink', 'Barbacoa Bowl', 'Barbacoa Burrito',\n",
       "       'Barbacoa Crispy Tacos', 'Barbacoa Salad Bowl',\n",
       "       'Barbacoa Soft Tacos', 'Bottled Water', 'Bowl', 'Burrito',\n",
       "       'Canned Soda', 'Canned Soft Drink', 'Carnitas Bowl',\n",
       "       'Carnitas Burrito', 'Carnitas Crispy Tacos', 'Carnitas Salad',\n",
       "       'Carnitas Salad Bowl', 'Carnitas Soft Tacos', 'Chicken Bowl',\n",
       "       'Chicken Burrito', 'Chicken Crispy Tacos', 'Chicken Salad',\n",
       "       'Chicken Salad Bowl', 'Chicken Soft Tacos', 'Chips',\n",
       "       'Chips and Fresh Tomato Salsa', 'Chips and Guacamole',\n",
       "       'Chips and Mild Fresh Tomato Salsa',\n",
       "       'Chips and Roasted Chili Corn Salsa',\n",
       "       'Chips and Roasted Chili-Corn Salsa',\n",
       "       'Chips and Tomatillo Green Chili Salsa',\n",
       "       'Chips and Tomatillo Red Chili Salsa',\n",
       "       'Chips and Tomatillo-Green Chili Salsa',\n",
       "       'Chips and Tomatillo-Red Chili Salsa', 'Crispy Tacos', 'Izze',\n",
       "       'Nantucket Nectar', 'Salad', 'Side of Chips', 'Steak Bowl',\n",
       "       'Steak Burrito', 'Steak Crispy Tacos', 'Steak Salad',\n",
       "       'Steak Salad Bowl', 'Steak Soft Tacos', 'Veggie Bowl',\n",
       "       'Veggie Burrito', 'Veggie Crispy Tacos', 'Veggie Salad',\n",
       "       'Veggie Salad Bowl', 'Veggie Soft Tacos'], dtype='<U37')"
      ]
     },
     "execution_count": 69,
     "metadata": {},
     "output_type": "execute_result"
    }
   ],
   "source": [
    "np.unique(d['item_name'])"
   ]
  },
  {
   "cell_type": "code",
   "execution_count": 81,
   "metadata": {},
   "outputs": [
    {
     "data": {
      "text/plain": [
       "['[Tomatillo Red Chili Salsa, [Fajita Vegetables, Black Beans, Pinto Beans, Cheese, Sour Cream, Guacamole, Lettuce]]',\n",
       " '[Fresh Tomato Salsa, [Rice, Black Beans, Pinto Beans, Cheese, Sour Cream, Lettuce]]',\n",
       " '[Tomatillo-Green Chili Salsa (Medium), [Pinto Beans, Cheese, Sour Cream]]',\n",
       " '[Fresh Tomato Salsa (Mild), [Black Beans, Rice, Cheese, Sour Cream, Lettuce]]',\n",
       " '[[Fresh Tomato Salsa (Mild), Tomatillo-Green Chili Salsa (Medium), Tomatillo-Red Chili Salsa (Hot)], [Rice, Cheese, Sour Cream, Lettuce]]']"
      ]
     },
     "execution_count": 81,
     "metadata": {},
     "output_type": "execute_result"
    }
   ],
   "source": [
    "burrito_list = []\n",
    "for index, item in enumerate(d['item_name']): \n",
    "    if 'Burrito' in item: \n",
    "        burrito_list.append(d['choice_description'][index])\n",
    "burrito_list[0:5]"
   ]
  },
  {
   "cell_type": "code",
   "execution_count": 82,
   "metadata": {},
   "outputs": [
    {
     "ename": "TypeError",
     "evalue": "eval() arg 1 must be a string, bytes or code object",
     "output_type": "error",
     "traceback": [
      "\u001b[1;31m---------------------------------------------------------------------------\u001b[0m",
      "\u001b[1;31mTypeError\u001b[0m                                 Traceback (most recent call last)",
      "\u001b[1;32m<ipython-input-82-f03fbdde501b>\u001b[0m in \u001b[0;36m<module>\u001b[1;34m\u001b[0m\n\u001b[1;32m----> 1\u001b[1;33m \u001b[0meval\u001b[0m\u001b[1;33m(\u001b[0m\u001b[0mburrito_list\u001b[0m\u001b[1;33m[\u001b[0m\u001b[1;36m1\u001b[0m\u001b[1;33m]\u001b[0m\u001b[1;33m.\u001b[0m\u001b[0msplit\u001b[0m\u001b[1;33m(\u001b[0m\u001b[1;34m','\u001b[0m\u001b[1;33m)\u001b[0m\u001b[1;33m)\u001b[0m\u001b[1;33m\u001b[0m\u001b[1;33m\u001b[0m\u001b[0m\n\u001b[0m",
      "\u001b[1;31mTypeError\u001b[0m: eval() arg 1 must be a string, bytes or code object"
     ]
    }
   ],
   "source": [
    "# not sure how to convert above format to right format such that second element of each \"string\" is a list "
   ]
  },
  {
   "cell_type": "code",
   "execution_count": null,
   "metadata": {
    "collapsed": true
   },
   "outputs": [],
   "source": []
  },
  {
   "cell_type": "markdown",
   "metadata": {},
   "source": [
    "### Part 6: Create a dictionary. Let the keys represent chip orders and the values represent the total number of orders.\n",
    "\n",
    "Expected output: `{'Chips and Roasted Chili-Corn Salsa': 18, ... }`\n",
    "\n",
    "Note: Please take the `quantity` column into account!\n",
    "\n",
    "Optional: Learn how to use `.defaultdict()` to simplify your code."
   ]
  },
  {
   "cell_type": "code",
   "execution_count": 84,
   "metadata": {},
   "outputs": [
    {
     "data": {
      "text/plain": [
       "['Chips and Fresh Tomato Salsa',\n",
       " 'Chips and Tomatillo-Green Chili Salsa',\n",
       " 'Side of Chips',\n",
       " 'Chips and Guacamole',\n",
       " 'Chips and Guacamole']"
      ]
     },
     "execution_count": 84,
     "metadata": {},
     "output_type": "execute_result"
    }
   ],
   "source": [
    "chips_list = []\n",
    "chips_quantity = []\n",
    "for index, item in enumerate(d['item_name']): \n",
    "    if 'Chips' in item: \n",
    "        chips_list.append(item)\n",
    "        chips_quantity.append(d['quantity'][index])"
   ]
  },
  {
   "cell_type": "code",
   "execution_count": 88,
   "metadata": {},
   "outputs": [
    {
     "data": {
      "text/plain": [
       "defaultdict(int,\n",
       "            {'Chips and Fresh Tomato Salsa': 130.0,\n",
       "             'Chips and Tomatillo-Green Chili Salsa': 33.0,\n",
       "             'Side of Chips': 110.0,\n",
       "             'Chips and Guacamole': 506.0,\n",
       "             'Chips and Tomatillo Green Chili Salsa': 45.0,\n",
       "             'Chips': 230.0,\n",
       "             'Chips and Tomatillo Red Chili Salsa': 50.0,\n",
       "             'Chips and Roasted Chili-Corn Salsa': 18.0,\n",
       "             'Chips and Roasted Chili Corn Salsa': 23.0,\n",
       "             'Chips and Tomatillo-Red Chili Salsa': 25.0,\n",
       "             'Chips and Mild Fresh Tomato Salsa': 1.0})"
      ]
     },
     "execution_count": 88,
     "metadata": {},
     "output_type": "execute_result"
    }
   ],
   "source": [
    "from collections import defaultdict\n",
    "chips_count = defaultdict(int)\n",
    "for index, item in enumerate(chips_list): \n",
    "    chips_count[item] += chips_quantity[index]\n",
    "chips_count"
   ]
  },
  {
   "cell_type": "markdown",
   "metadata": {},
   "source": [
    "---\n",
    "\n",
    "## Bonus: Craft a problem statement about this data that interests you, and then answer it!\n"
   ]
  },
  {
   "cell_type": "code",
   "execution_count": null,
   "metadata": {
    "collapsed": true
   },
   "outputs": [],
   "source": []
  },
  {
   "cell_type": "code",
   "execution_count": null,
   "metadata": {
    "collapsed": true
   },
   "outputs": [],
   "source": []
  },
  {
   "cell_type": "code",
   "execution_count": null,
   "metadata": {
    "collapsed": true
   },
   "outputs": [],
   "source": []
  },
  {
   "cell_type": "code",
   "execution_count": null,
   "metadata": {
    "collapsed": true
   },
   "outputs": [],
   "source": []
  }
 ],
 "metadata": {
  "anaconda-cloud": {},
  "kernelspec": {
   "display_name": "Python 3",
   "language": "python",
   "name": "python3"
  },
  "language_info": {
   "codemirror_mode": {
    "name": "ipython",
    "version": 3
   },
   "file_extension": ".py",
   "mimetype": "text/x-python",
   "name": "python",
   "nbconvert_exporter": "python",
   "pygments_lexer": "ipython3",
   "version": "3.7.3"
  },
  "toc": {
   "base_numbering": 1,
   "nav_menu": {},
   "number_sections": true,
   "sideBar": true,
   "skip_h1_title": false,
   "title_cell": "Table of Contents",
   "title_sidebar": "Contents",
   "toc_cell": false,
   "toc_position": {},
   "toc_section_display": true,
   "toc_window_display": false
  },
  "varInspector": {
   "cols": {
    "lenName": 16,
    "lenType": 16,
    "lenVar": 40
   },
   "kernels_config": {
    "python": {
     "delete_cmd_postfix": "",
     "delete_cmd_prefix": "del ",
     "library": "var_list.py",
     "varRefreshCmd": "print(var_dic_list())"
    },
    "r": {
     "delete_cmd_postfix": ") ",
     "delete_cmd_prefix": "rm(",
     "library": "var_list.r",
     "varRefreshCmd": "cat(var_dic_list()) "
    }
   },
   "types_to_exclude": [
    "module",
    "function",
    "builtin_function_or_method",
    "instance",
    "_Feature"
   ],
   "window_display": false
  }
 },
 "nbformat": 4,
 "nbformat_minor": 2
}
